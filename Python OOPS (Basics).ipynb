{
  "cells":[
    {
      "cell_type":"markdown",
      "source":[
        "## OOPS (BASICS) IN PYTHON\n",
        "\n",
        "- A class is a real world object.\n",
        "- Let us take a car, its attributes are speed, color etc\n",
        "- They have properties, attributes and functions.\n",
        "- Instances can be created that can be instantiated from a particular class."
      ],
      "attachments":{
        
      },
      "metadata":{
        
      }
    },
    {
      "cell_type":"code",
      "source":[
        "class Car:\n",
        "    pass"
      ],
      "execution_count":2,
      "outputs":[
        
      ],
      "metadata":{
        
      }
    },
    {
      "cell_type":"code",
      "source":[
        "# INSTATNTIATIONG THE CAR CLASS\n",
        "\n",
        "car1 = Car()"
      ],
      "execution_count":3,
      "outputs":[
        
      ],
      "metadata":{
        
      }
    },
    {
      "cell_type":"code",
      "source":[
        "#CAR1 IS A OBJECT\n",
        "\n",
        "car1"
      ],
      "execution_count":4,
      "outputs":[
        {
          "data":{
            "text\/plain":[
              "<__main__.Car at 0x7f80c3fd94f0>"
            ]
          },
          "metadata":{
            
          },
          "output_type":"display_data"
        }
      ],
      "metadata":{
        
      }
    },
    {
      "cell_type":"code",
      "source":[
        "# ASSIGNING VALUS TO OBJECT\n",
        "\n",
        "car1.windows = 5\n",
        "car1.doors = 4\n",
        "car1.speed = 100"
      ],
      "execution_count":5,
      "outputs":[
        
      ],
      "metadata":{
        
      }
    },
    {
      "cell_type":"code",
      "source":[
        "car1.windows"
      ],
      "execution_count":6,
      "outputs":[
        {
          "data":{
            "text\/plain":[
              "5"
            ]
          },
          "metadata":{
            
          },
          "output_type":"display_data"
        }
      ],
      "metadata":{
        
      }
    },
    {
      "cell_type":"code",
      "source":[
        "#CREATING AN ANOTHER OBJECT\n",
        "\n",
        "car2 = Car()\n",
        "car2.doors = 2\n",
        "car2.windows = 8\n",
        "car2.wheels = 6\n",
        "car2.enginetype = \"Petrol\""
      ],
      "execution_count":9,
      "outputs":[
        
      ],
      "metadata":{
        
      }
    },
    {
      "cell_type":"code",
      "source":[
        "car2.enginetype"
      ],
      "execution_count":10,
      "outputs":[
        {
          "data":{
            "text\/plain":[
              "'Petrol'"
            ]
          },
          "metadata":{
            
          },
          "output_type":"display_data"
        }
      ],
      "metadata":{
        
      }
    },
    {
      "cell_type":"code",
      "source":[
        "#AS WE CAN SEE WE HAVE A FUCNTION __init__ WHICH IS USED TO INITIALIZE VARIABLES\n",
        "\n",
        "dir(car2)"
      ],
      "execution_count":11,
      "outputs":[
        {
          "data":{
            "text\/plain":[
              "['__class__',\n",
              " '__delattr__',\n",
              " '__dict__',\n",
              " '__dir__',\n",
              " '__doc__',\n",
              " '__eq__',\n",
              " '__format__',\n",
              " '__ge__',\n",
              " '__getattribute__',\n",
              " '__gt__',\n",
              " '__hash__',\n",
              " '__init__',\n",
              " '__init_subclass__',\n",
              " '__le__',\n",
              " '__lt__',\n",
              " '__module__',\n",
              " '__ne__',\n",
              " '__new__',\n",
              " '__reduce__',\n",
              " '__reduce_ex__',\n",
              " '__repr__',\n",
              " '__setattr__',\n",
              " '__sizeof__',\n",
              " '__str__',\n",
              " '__subclasshook__',\n",
              " '__weakref__',\n",
              " 'doors',\n",
              " 'enginetype',\n",
              " 'wheels',\n",
              " 'windows']"
            ]
          },
          "metadata":{
            
          },
          "output_type":"display_data"
        }
      ],
      "metadata":{
        
      }
    },
    {
      "cell_type":"code",
      "source":[
        "#THE ABOVE MENTIONED WAY IS A BAD WAY TO CREATE CLASS AND ASSIGN ATTRIBUTES, HENCE WE FOLLOW THE FOLLWOING APPROACH.\n",
        "#THE INIT FUNCTION ACTS LIKE A CONSTRUCTOR, THE SELF FUNCTION STORES THE ATTRIBUTES.\n",
        "#THE REAL WAY TO CREATE A CLASS.\n",
        "\n",
        "class Vehicle:\n",
        "    def __init__(self,window,door,enginetype):\n",
        "        self.windows = window\n",
        "        self.door  = door\n",
        "        self.enginetype = enginetype\n",
        "    def printdetails(self):\n",
        "        print(\"The car has {} windows, {} Doors and the car type is {}.\".format(self.windows,self.door,self.enginetype))"
      ],
      "execution_count":22,
      "outputs":[
        
      ],
      "metadata":{
        
      }
    },
    {
      "cell_type":"code",
      "source":[
        "Vehicle1 = Vehicle(4,4,\"ABS\")\n",
        "Vehicle1.door"
      ],
      "execution_count":24,
      "outputs":[
        {
          "data":{
            "text\/plain":[
              "4"
            ]
          },
          "metadata":{
            
          },
          "output_type":"display_data"
        }
      ],
      "metadata":{
        
      }
    },
    {
      "cell_type":"code",
      "source":[
        "vehicle2 = Vehicle(3,2,\"Diesel\")\n",
        "vehicle2.printdetails()"
      ],
      "execution_count":23,
      "outputs":[
        {
          "name":"stdout",
          "text":[
            "The car has 3 windows, 2 Doors and the car type is Diesel.\n"
          ],
          "output_type":"stream"
        }
      ],
      "metadata":{
        
      }
    }
  ],
  "metadata":{
    
  },
  "nbformat":4,
  "nbformat_minor":0
}