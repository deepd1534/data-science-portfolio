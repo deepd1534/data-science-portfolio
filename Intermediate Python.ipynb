{
  "cells":[
    {
      "cell_type":"markdown",
      "source":[
        "### Slicing Problems (Strings)"
      ],
      "attachments":{
        
      },
      "metadata":{
        
      }
    },
    {
      "cell_type":"code",
      "source":[
        "month = 'janfebmaraprmayjunjulaugsepoctnovdec'\n",
        "\n",
        "\n",
        "mylist = []\n",
        "\n",
        "for i in range(0,len(month),3):\n",
        "    mylist.append(month[i:i+3])\n",
        "print(mylist)"
      ],
      "execution_count":28,
      "outputs":[
        {
          "name":"stdout",
          "text":[
            "['jan', 'feb', 'mar', 'apr', 'may', 'jun', 'jul', 'aug', 'sep', 'oct', 'nov', 'dec']\n"
          ],
          "output_type":"stream"
        }
      ],
      "metadata":{
        
      }
    },
    {
      "cell_type":"code",
      "source":[
        "x = 1\n",
        "month[(x-1)*3:(x-1)*3+3]"
      ],
      "execution_count":29,
      "outputs":[
        {
          "data":{
            "text\/plain":[
              "'jan'"
            ]
          },
          "metadata":{
            
          },
          "output_type":"display_data"
        }
      ],
      "metadata":{
        
      }
    },
    {
      "cell_type":"code",
      "source":[
        "s = \"hello\"\n",
        "s.replace('h','m')"
      ],
      "execution_count":30,
      "outputs":[
        {
          "data":{
            "text\/plain":[
              "'mello'"
            ]
          },
          "metadata":{
            
          },
          "output_type":"display_data"
        }
      ],
      "metadata":{
        
      }
    },
    {
      "cell_type":"markdown",
      "source":[
        "### String Formatting In Python"
      ],
      "attachments":{
        
      },
      "metadata":{
        
      }
    },
    {
      "cell_type":"code",
      "source":[
        "#CHANGING STRING VALUES DYNAMICALLY\n",
        "\n",
        "def greeting(name):\n",
        "    return \"Hello {}. Welcome to the community.\".format(name)\n",
        "\n",
        "greeting(\"Deep\")"
      ],
      "execution_count":33,
      "outputs":[
        {
          "data":{
            "text\/plain":[
              "'Hello Deep. Welcome to the community.'"
            ]
          },
          "metadata":{
            
          },
          "output_type":"display_data"
        }
      ],
      "metadata":{
        
      }
    },
    {
      "cell_type":"code",
      "source":[
        "#ORDERING SHOULD BE MAINTAINED\n",
        "\n",
        "def welcome_email(fname,lastname,age):\n",
        "    return \"Welcome {} {}, Your age is {}\".format(fname,lastname,age)\n",
        "\n",
        "welcome_email('Deep','Sasmal',21)"
      ],
      "execution_count":34,
      "outputs":[
        {
          "data":{
            "text\/plain":[
              "'Welcome Deep Sasmal, Your age is 21'"
            ]
          },
          "metadata":{
            
          },
          "output_type":"display_data"
        }
      ],
      "metadata":{
        
      }
    },
    {
      "cell_type":"code",
      "source":[
        "def print_emailid(fname,lname):\n",
        "    return '{}{}@gmail.com'.format(fname,lname)\n",
        "\n",
        "print_emailid(lname='sasmal',fname=\"deep\")"
      ],
      "execution_count":35,
      "outputs":[
        {
          "data":{
            "text\/plain":[
              "'deepsasmal@gmail.com'"
            ]
          },
          "metadata":{
            
          },
          "output_type":"display_data"
        }
      ],
      "metadata":{
        
      }
    },
    {
      "cell_type":"markdown",
      "source":[
        "### Python Iterables VS Iterators\n",
        "- Lists in python are iterables because they can be iterated, Since we can iterate through each and every element, they are iterables.\n",
        "- There is an inbuilt function called *iter()*, This function convers iterable into an iterator.\n",
        "- In the case of a list, all the elements are intialized in the memory location, whereas in the case of an iterator the items are not initialized in the memory location.\n",
        "- Whenever we call next, the item gets initialized in the memory location. Which saves a lot of memory.\n",
        "- Ultimate aim to use iterators is to save memory space."
      ],
      "attachments":{
        
      },
      "metadata":{
        
      }
    },
    {
      "cell_type":"code",
      "source":[
        "# LIST IS ITERABLE\n",
        "\n",
        "list1 = [10,20,30,40,50]\n",
        "for i in list1:\n",
        "    print(i)"
      ],
      "execution_count":3,
      "outputs":[
        {
          "name":"stdout",
          "text":[
            "10\n",
            "20\n",
            "30\n",
            "40\n",
            "50\n"
          ],
          "output_type":"stream"
        }
      ],
      "metadata":{
        
      }
    },
    {
      "cell_type":"code",
      "source":[
        "#CALLING ITER FUNCITON ON LIST \n",
        "\n",
        "iterator = iter(list1)"
      ],
      "execution_count":4,
      "outputs":[
        
      ],
      "metadata":{
        
      }
    },
    {
      "cell_type":"code",
      "source":[
        "#AT A TIME ONLY ONE VALUE IS LOADED IN THE MEMORY AND PRINTED WHEN THE NEXT FUCNTION IS CALLED.\n",
        "\n",
        "next(iterator)"
      ],
      "execution_count":5,
      "outputs":[
        {
          "data":{
            "text\/plain":[
              "10"
            ]
          },
          "metadata":{
            
          },
          "output_type":"display_data"
        }
      ],
      "metadata":{
        
      }
    },
    {
      "cell_type":"code",
      "source":[
        "#LIKE AN ITERABLE ITERATOR CAN ALSO BE ITERATED WHICH PRINTS ALL THE ELEMENTS AT ONCE.\n",
        "#IN THE FOR LOOP, THE LAST ELEMENT IS PRINTED AND AN ERROR IS NOT GENERATOED BECAUSE IT IS SPECIFICALLY HANDLED (StopIteration)\n",
        "\n",
        "for i in iterator:\n",
        "    print(i)"
      ],
      "execution_count":6,
      "outputs":[
        {
          "name":"stdout",
          "text":[
            "20\n",
            "30\n",
            "40\n",
            "50\n"
          ],
          "output_type":"stream"
        }
      ],
      "metadata":{
        
      }
    }
  ],
  "metadata":{
    
  },
  "nbformat":4,
  "nbformat_minor":0
}